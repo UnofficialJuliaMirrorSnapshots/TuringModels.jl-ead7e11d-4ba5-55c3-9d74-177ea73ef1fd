{
 "cells": [
  {
   "outputs": [],
   "cell_type": "markdown",
   "source": [
    "# m2.1t.jl"
   ],
   "metadata": {}
  },
  {
   "outputs": [],
   "cell_type": "markdown",
   "source": [
    "Load Julia packages (libraries) needed"
   ],
   "metadata": {}
  },
  {
   "outputs": [],
   "cell_type": "code",
   "source": [
    "using TuringModels\n",
    "using Optim, Turing, Flux.Tracker\n",
    "gr(size=(600,300));"
   ],
   "metadata": {},
   "execution_count": 1
  },
  {
   "outputs": [
    {
     "name": "stdout",
     "output_type": "stream",
     "text": [
      "┌ Info: [Turing]: global PROGRESS is set as false\n",
      "└ @ Turing /Users/rob/.julia/packages/Turing/yF1Mq/src/Turing.jl:24\n"
     ]
    },
    {
     "output_type": "execute_result",
     "data": {
      "text/plain": "false"
     },
     "metadata": {},
     "execution_count": 2
    }
   ],
   "cell_type": "code",
   "source": [
    "Turing.setadbackend(:reverse_diff);\n",
    "Turing.turnprogress(false)"
   ],
   "metadata": {},
   "execution_count": 2
  },
  {
   "outputs": [],
   "cell_type": "markdown",
   "source": [
    "### snippet 2.8t"
   ],
   "metadata": {}
  },
  {
   "outputs": [],
   "cell_type": "markdown",
   "source": [
    "Define the data"
   ],
   "metadata": {}
  },
  {
   "outputs": [],
   "cell_type": "code",
   "source": [
    "k = 6; n = 9;"
   ],
   "metadata": {},
   "execution_count": 3
  },
  {
   "outputs": [],
   "cell_type": "markdown",
   "source": [
    "Define the model"
   ],
   "metadata": {}
  },
  {
   "outputs": [],
   "cell_type": "code",
   "source": [
    "@model globe_toss(n, k) = begin\n",
    "  theta ~ Beta(1, 1) # prior\n",
    "  k ~ Binomial(n, theta) # model\n",
    "  return k, theta\n",
    "end;"
   ],
   "metadata": {},
   "execution_count": 4
  },
  {
   "outputs": [],
   "cell_type": "markdown",
   "source": [
    "Compute the \"maximum_a_posteriori\" value"
   ],
   "metadata": {}
  },
  {
   "outputs": [],
   "cell_type": "markdown",
   "source": [
    "Set search bounds"
   ],
   "metadata": {}
  },
  {
   "outputs": [],
   "cell_type": "code",
   "source": [
    "lb = [0.0]; ub = [1.0];"
   ],
   "metadata": {},
   "execution_count": 5
  },
  {
   "outputs": [],
   "cell_type": "markdown",
   "source": [
    "Create (compile) the model"
   ],
   "metadata": {}
  },
  {
   "outputs": [],
   "cell_type": "code",
   "source": [
    "model = globe_toss(n, k);"
   ],
   "metadata": {},
   "execution_count": 6
  },
  {
   "outputs": [],
   "cell_type": "markdown",
   "source": [
    "Compute the maximum_a_posteriori"
   ],
   "metadata": {}
  },
  {
   "outputs": [
    {
     "output_type": "execute_result",
     "data": {
      "text/plain": "Results of Optimization Algorithm\n * Algorithm: Fminbox with L-BFGS\n * Starting Point: [0.38013825330957696]\n * Minimizer: [0.6666666665521563]\n * Minimum: 1.297811e+00\n * Iterations: 3\n * Convergence: true\n   * |x - x'| ≤ 0.0e+00: false \n     |x - x'| = 9.54e-08 \n   * |f(x) - f(x')| ≤ 0.0e+00 |f(x)|: false\n     |f(x) - f(x')| = 1.42e-13 |f(x)|\n   * |g(x)| ≤ 1.0e-08: true \n     |g(x)| = 3.88e-09 \n   * Stopped by an increasing objective: false\n   * Reached Maximum Number of Iterations: false\n * Objective Calls: 55\n * Gradient Calls: 55"
     },
     "metadata": {},
     "execution_count": 7
    }
   ],
   "cell_type": "code",
   "source": [
    "maximum_a_posteriori(model, lb, ub)"
   ],
   "metadata": {},
   "execution_count": 7
  },
  {
   "outputs": [],
   "cell_type": "markdown",
   "source": [
    "Use Turing mcmc"
   ],
   "metadata": {}
  },
  {
   "outputs": [
    {
     "name": "stdout",
     "output_type": "stream",
     "text": [
      "┌ Info: [Turing] looking for good initial eps...\n",
      "└ @ Turing.Inference /Users/rob/.julia/packages/Turing/yF1Mq/src/inference/support/hmc_core.jl:245\n",
      "┌ Info: [Turing] found initial ϵ: 1.55\n",
      "└ @ Turing.Inference /Users/rob/.julia/packages/Turing/yF1Mq/src/inference/support/hmc_core.jl:237\n",
      "┌ Info:  Adapted ϵ = 1.7432190878254485, std = [1.0]; 1000 iterations is used for adaption.\n",
      "└ @ Turing.Inference /Users/rob/.julia/packages/Turing/yF1Mq/src/inference/adapt/adapt.jl:90\n",
      "[NUTS] Finished with\n",
      "  Running time        = 0.7511426810000006;\n",
      "  #lf / sample        = 0.0;\n",
      "  #evals / sample     = 5.642;\n",
      "  pre-cond. metric    = [1.0].\n"
     ]
    }
   ],
   "cell_type": "code",
   "source": [
    "chn = sample(model, Turing.NUTS(2000, 1000, 0.65));"
   ],
   "metadata": {},
   "execution_count": 8
  },
  {
   "outputs": [],
   "cell_type": "markdown",
   "source": [
    "Look at the proper draws (in corrected chn2)"
   ],
   "metadata": {}
  },
  {
   "outputs": [
    {
     "name": "stdout",
     "output_type": "stream",
     "text": [
      "Log evidence      = 0.0\n",
      "Iterations        = 1001:2000\n",
      "Thinning interval = 1\n",
      "Chains            = 1\n",
      "Samples per chain = 1000\n",
      "parameters        = theta\n",
      "\n",
      "Empirical Posterior Estimates\n",
      "───────────────────────────────────────────\n",
      "parameters\n",
      "       Mean    SD   Naive SE  MCSE    ESS  \n",
      "theta 0.6476 0.1529   0.0048 0.0163 87.4972\n",
      "\n",
      "Quantiles\n",
      "───────────────────────────────────────────\n",
      "parameters\n",
      "       2.5%   25.0%  50.0%  75.0%  97.5%\n",
      "theta 0.2422 0.5525 0.6552 0.7621 0.9471\n",
      "\n"
     ]
    }
   ],
   "cell_type": "code",
   "source": [
    "chn2 = chn[1001:2000, :, :]\n",
    "describe(chn2)"
   ],
   "metadata": {},
   "execution_count": 9
  },
  {
   "outputs": [],
   "cell_type": "markdown",
   "source": [
    "Show the hpd region"
   ],
   "metadata": {}
  },
  {
   "outputs": [
    {
     "output_type": "execute_result",
     "data": {
      "text/plain": "Log evidence      = 0.0\nIterations        = 1001:2000\nThinning interval = 1\nChains            = 1\nSamples per chain = 1000\nparameters        = theta\n\nparameters\n      94.5% Lower 94.5% Upper\ntheta  0.36896087   0.9459545\n\n"
     },
     "metadata": {},
     "execution_count": 10
    }
   ],
   "cell_type": "code",
   "source": [
    "MCMCChains.hpd(chn2[:theta], alpha=0.055)"
   ],
   "metadata": {},
   "execution_count": 10
  },
  {
   "outputs": [],
   "cell_type": "markdown",
   "source": [
    "End of `02/m2.1t.jl`"
   ],
   "metadata": {}
  },
  {
   "outputs": [],
   "cell_type": "markdown",
   "source": [
    "*This notebook was generated using [Literate.jl](https://github.com/fredrikekre/Literate.jl).*"
   ],
   "metadata": {}
  }
 ],
 "nbformat_minor": 3,
 "metadata": {
  "language_info": {
   "file_extension": ".jl",
   "mimetype": "application/julia",
   "name": "julia",
   "version": "1.2.0-DEV.483"
  },
  "kernelspec": {
   "name": "julia-1.2",
   "display_name": "Julia 1.2.0-DEV.483",
   "language": "julia"
  }
 },
 "nbformat": 4
}
