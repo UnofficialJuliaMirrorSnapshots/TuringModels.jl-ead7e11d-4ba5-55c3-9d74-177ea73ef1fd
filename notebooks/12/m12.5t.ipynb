{
 "cells": [
  {
   "outputs": [],
   "cell_type": "code",
   "source": [
    "using TuringModels\n",
    "\n",
    "Turing.setadbackend(:reverse_diff)\n",
    "#nbTuring.turnprogress(false);\n",
    "\n",
    "d = CSV.read(rel_path(\"..\", \"data\", \"chimpanzees.csv\"), delim=';');\n",
    "size(d) # Should be 504x8"
   ],
   "metadata": {},
   "execution_count": null
  },
  {
   "outputs": [],
   "cell_type": "markdown",
   "source": [
    "Turing model: pulled_left, actor, condition, prosoc_left"
   ],
   "metadata": {}
  },
  {
   "outputs": [],
   "cell_type": "code",
   "source": [
    "@model m12_5(pulled_left, actor, block, condition, prosoc_left) = begin\n",
    "    # Total num of y\n",
    "    N = length(pulled_left)\n",
    "    # Separate σ priors for each actor and block\n",
    "    σ_actor ~ Truncated(Cauchy(0, 1), 0, Inf)\n",
    "    σ_block ~ Truncated(Cauchy(0, 1), 0, Inf)\n",
    "    # Number of unique actors in the data set\n",
    "    N_actor = length(unique(actor)) #7\n",
    "    N_block = length(unique(block))\n",
    "    # Vector of actors (1,..,7) which we'll set priors on\n",
    "    α_actor = Vector{Real}(undef, N_actor)\n",
    "    α_block = Vector{Real}(undef, N_block)\n",
    "    # For each actor [1,..,7] and each block [1,..,6] set a prior N(0,σ_actor)\n",
    "    α_actor ~ [Normal(0, σ_actor)]\n",
    "    α_block ~ [Normal(0, σ_block)]\n",
    "    # Prior for intercept, prosoc_left, and the interaction\n",
    "    α ~ Normal(0, 10)\n",
    "    βp ~ Normal(0, 10)\n",
    "    βpC ~ Normal(0, 10)\n",
    "\n",
    "    logitp = [α + α_actor[actor[i]] + α_block[block[i]] +\n",
    "            (βp + βpC * condition[i]) * prosoc_left[i]\n",
    "            for i = 1:N]\n",
    "    # Thanks to Kai Xu for suggesting ones(Int64, N)\n",
    "    pulled_left ~ VecBinomialLogit(ones(Int64, N), logitp)\n",
    "\n",
    "end"
   ],
   "metadata": {},
   "execution_count": null
  },
  {
   "outputs": [],
   "cell_type": "markdown",
   "source": [
    "Sample"
   ],
   "metadata": {}
  },
  {
   "outputs": [],
   "cell_type": "code",
   "source": [
    "posterior = sample(m12_5(\n",
    "    Vector{Int64}(d[:pulled_left]),\n",
    "    Vector{Int64}(d[:actor]),\n",
    "    Vector{Int64}(d[:block]),\n",
    "    Vector{Int64}(d[:condition]),\n",
    "    Vector{Int64}(d[:prosoc_left])),\n",
    "    Turing.NUTS(4000, 1000, 0.95));\n",
    "# Fix the inclusion of adaptation samples\n",
    "posterior2 = posterior[1001:4000,:,:];"
   ],
   "metadata": {},
   "execution_count": null
  },
  {
   "outputs": [],
   "cell_type": "markdown",
   "source": [
    "Results rethinking"
   ],
   "metadata": {}
  },
  {
   "outputs": [],
   "cell_type": "code",
   "source": [
    "m125rethinking = \"\n",
    "             Mean StdDev lower 0.89 upper 0.89 n_eff Rhat\n",
    "a_actor[1]  -1.19   0.98      -2.66       0.35  3451    1\n",
    "a_actor[2]   4.14   1.59       1.87       6.38  5514    1\n",
    "a_actor[3]  -1.49   0.99      -2.96       0.05  3493    1\n",
    "a_actor[4]  -1.50   0.98      -3.00       0.01  3340    1\n",
    "a_actor[5]  -1.19   0.99      -2.68       0.34  3447    1\n",
    "a_actor[6]  -0.25   0.99      -1.79       1.25  3361    1\n",
    "a_actor[7]   1.30   1.01      -0.21       2.89  3673    1\n",
    "a_block[1]  -0.19   0.23      -0.56       0.10  3825    1\n",
    "a_block[2]   0.04   0.19      -0.24       0.34  9346    1\n",
    "a_block[3]   0.06   0.19      -0.22       0.37  9202    1\n",
    "a_block[4]   0.00   0.18      -0.29       0.29 11314    1\n",
    "a_block[5]  -0.03   0.19      -0.33       0.25 10596    1\n",
    "a_block[6]   0.11   0.21      -0.16       0.45  6040    1\n",
    "a            0.47   0.97      -1.01       1.99  3273    1\n",
    "bp           0.83   0.26       0.40       1.24 13225    1\n",
    "bpc         -0.15   0.30      -0.61       0.36  8492    1\n",
    "sigma_actor  2.27   0.91       1.03       3.35  5677    1\n",
    "sigma_block  0.23   0.18       0.01       0.44  2269    1\n",
    "\";"
   ],
   "metadata": {},
   "execution_count": null
  },
  {
   "outputs": [],
   "cell_type": "markdown",
   "source": [
    "Draw summary"
   ],
   "metadata": {}
  },
  {
   "outputs": [],
   "cell_type": "code",
   "source": [
    "describe(posterior2)"
   ],
   "metadata": {},
   "execution_count": null
  },
  {
   "outputs": [],
   "cell_type": "markdown",
   "source": [
    "End of m12.5t.jl#-\n",
    "*This notebook was generated using [Literate.jl](https://github.com/fredrikekre/Literate.jl).*"
   ],
   "metadata": {}
  }
 ],
 "nbformat_minor": 3,
 "metadata": {
  "language_info": {
   "file_extension": ".jl",
   "mimetype": "application/julia",
   "name": "julia",
   "version": "1.2.0-DEV.483"
  },
  "kernelspec": {
   "name": "julia-1.2",
   "display_name": "Julia 1.2.0-DEV.483",
   "language": "julia"
  }
 },
 "nbformat": 4
}
