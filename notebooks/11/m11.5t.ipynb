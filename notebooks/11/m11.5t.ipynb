{
 "cells": [
  {
   "outputs": [],
   "cell_type": "code",
   "source": [
    "using TuringModels\n",
    "\n",
    "Turing.setadbackend(:reverse_diff)\n",
    "#nbTuring.turnprogress(false);\n",
    "\n",
    "d = CSV.read(rel_path(\"..\", \"data\", \"UCBadmit.csv\"), delim=';');\n",
    "size(d) # Should be 12x5"
   ],
   "metadata": {},
   "execution_count": null
  },
  {
   "outputs": [],
   "cell_type": "markdown",
   "source": [
    "Turing model"
   ],
   "metadata": {}
  },
  {
   "outputs": [],
   "cell_type": "code",
   "source": [
    "@model m11_5(admit, applications) = begin\n",
    "    N=length(applications)\n",
    "    θ ~ Truncated(Exponential(1), 0, Inf)\n",
    "    α ~ Normal(0,2)\n",
    "\n",
    "    for i ∈ 1:N\n",
    "        prob = logistic(α)\n",
    "        # alpha and beta for the BetaBinomial must be provided.\n",
    "        # The two parameterizations are related by\n",
    "        # alpha = prob * theta, and beta = (1-prob) * theta.\n",
    "        # See https://github.com/rmcelreath/rethinking/blob/master/man/dbetabinom.Rd\n",
    "        alpha = prob * θ\n",
    "        beta = (1 - prob) * θ\n",
    "\n",
    "        admit[i] ~ BetaBinomial(applications[i], alpha, beta)\n",
    "    end\n",
    "end"
   ],
   "metadata": {},
   "execution_count": null
  },
  {
   "outputs": [],
   "cell_type": "markdown",
   "source": [
    "Sample"
   ],
   "metadata": {}
  },
  {
   "outputs": [],
   "cell_type": "code",
   "source": [
    "posterior = sample(m11_5(d[:admit],d[:applications]), Turing.NUTS(4000, 1000, 0.9));"
   ],
   "metadata": {},
   "execution_count": null
  },
  {
   "outputs": [],
   "cell_type": "markdown",
   "source": [
    "Draw summary"
   ],
   "metadata": {}
  },
  {
   "outputs": [],
   "cell_type": "code",
   "source": [
    "describe(posterior[1001:4000, :, :])"
   ],
   "metadata": {},
   "execution_count": null
  },
  {
   "outputs": [],
   "cell_type": "markdown",
   "source": [
    "Result rethinking"
   ],
   "metadata": {}
  },
  {
   "outputs": [],
   "cell_type": "code",
   "source": [
    "m115rethinking = \"\n",
    "         mean   sd  5.5% 94.5% n_eff Rhat\n",
    "theta  2.74 0.96  1.43  4.37  3583    1\n",
    "a       -0.37 0.31 -0.87  0.12  3210    1\n",
    "\";"
   ],
   "metadata": {},
   "execution_count": null
  },
  {
   "outputs": [],
   "cell_type": "markdown",
   "source": [
    "End of `1/m811.5t.jl`"
   ],
   "metadata": {}
  },
  {
   "outputs": [],
   "cell_type": "markdown",
   "source": [
    "*This notebook was generated using [Literate.jl](https://github.com/fredrikekre/Literate.jl).*"
   ],
   "metadata": {}
  }
 ],
 "nbformat_minor": 3,
 "metadata": {
  "language_info": {
   "file_extension": ".jl",
   "mimetype": "application/julia",
   "name": "julia",
   "version": "1.2.0-DEV.483"
  },
  "kernelspec": {
   "name": "julia-1.2",
   "display_name": "Julia 1.2.0-DEV.483",
   "language": "julia"
  }
 },
 "nbformat": 4
}
