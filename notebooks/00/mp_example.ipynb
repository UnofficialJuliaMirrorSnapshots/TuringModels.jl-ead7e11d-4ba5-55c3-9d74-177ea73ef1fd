{
 "cells": [
  {
   "outputs": [],
   "cell_type": "code",
   "source": [
    "using Distributed\n",
    "addprocs(4)\n",
    "@everywhere using Turing\n",
    "\n",
    "@everywhere @model model() = begin\n",
    "    a ~ Normal(-10,.1)\n",
    "    b ~ Normal(-8,.1)\n",
    "    c ~ Normal(-6,.1)\n",
    "    d ~ Normal(-4,.1)\n",
    "    return nothing\n",
    "end\n",
    "\n",
    "Nsamples = 2000\n",
    "Nadapt = 1000\n",
    "draws = Nadapt+1:Nsamples\n",
    "δ = .85\n",
    "sampler = NUTS(Nsamples,Nadapt,δ)\n",
    "\n",
    "chns = reduce(chainscat, pmap(x->sample(model(),sampler),1:4))\n",
    "chains = chns[draws, :, :]"
   ],
   "metadata": {},
   "execution_count": null
  },
  {
   "outputs": [],
   "cell_type": "markdown",
   "source": [
    "*This notebook was generated using [Literate.jl](https://github.com/fredrikekre/Literate.jl).*"
   ],
   "metadata": {}
  }
 ],
 "nbformat_minor": 3,
 "metadata": {
  "language_info": {
   "file_extension": ".jl",
   "mimetype": "application/julia",
   "name": "julia",
   "version": "1.2.0-DEV.483"
  },
  "kernelspec": {
   "name": "julia-1.2",
   "display_name": "Julia 1.2.0-DEV.483",
   "language": "julia"
  }
 },
 "nbformat": 4
}
