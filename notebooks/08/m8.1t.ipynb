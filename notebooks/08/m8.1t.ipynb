{
 "cells": [
  {
   "outputs": [],
   "cell_type": "markdown",
   "source": [
    "### m8.1stan"
   ],
   "metadata": {}
  },
  {
   "outputs": [],
   "cell_type": "markdown",
   "source": [
    "m8.1stan is the first model in the Statistical Rethinking book (pp. 249) using Stan."
   ],
   "metadata": {}
  },
  {
   "outputs": [],
   "cell_type": "markdown",
   "source": [
    "Here we will use Turing's NUTS support, which is currently (2018) the originalNUTS by [Hoffman & Gelman]( http://www.stat.columbia.edu/~gelman/research/published/nuts.pdf) and not the one that's in Stan 2.18.2, i.e., Appendix A.5 in: https://arxiv.org/abs/1701.02434"
   ],
   "metadata": {}
  },
  {
   "outputs": [],
   "cell_type": "markdown",
   "source": [
    "The TuringModels pkg imports modules such as CSV and DataFrames"
   ],
   "metadata": {}
  },
  {
   "outputs": [],
   "cell_type": "code",
   "source": [
    "using TuringModels\n",
    "\n",
    "Turing.setadbackend(:reverse_diff);\n",
    "Turing.turnprogress(false)"
   ],
   "metadata": {},
   "execution_count": null
  },
  {
   "outputs": [],
   "cell_type": "markdown",
   "source": [
    "Read in the `rugged` data as a DataFrame"
   ],
   "metadata": {}
  },
  {
   "outputs": [],
   "cell_type": "code",
   "source": [
    "d = CSV.read(rel_path(\"..\", \"data\", \"rugged.csv\"), delim=';');"
   ],
   "metadata": {},
   "execution_count": null
  },
  {
   "outputs": [],
   "cell_type": "markdown",
   "source": [
    "Show size of the DataFrame (should be 234x51)"
   ],
   "metadata": {}
  },
  {
   "outputs": [],
   "cell_type": "code",
   "source": [
    "size(d)"
   ],
   "metadata": {},
   "execution_count": null
  },
  {
   "outputs": [],
   "cell_type": "markdown",
   "source": [
    "Apply log() to each element in rgdppc_2000 column and add it as a new column"
   ],
   "metadata": {}
  },
  {
   "outputs": [],
   "cell_type": "code",
   "source": [
    "d = hcat(d, map(log, d[Symbol(\"rgdppc_2000\")]));"
   ],
   "metadata": {},
   "execution_count": null
  },
  {
   "outputs": [],
   "cell_type": "markdown",
   "source": [
    "Rename our col x1 => log_gdp"
   ],
   "metadata": {}
  },
  {
   "outputs": [],
   "cell_type": "code",
   "source": [
    "rename!(d, :x1 => :log_gdp);"
   ],
   "metadata": {},
   "execution_count": null
  },
  {
   "outputs": [],
   "cell_type": "markdown",
   "source": [
    "Now we need to drop every row where rgdppc_2000 == missing"
   ],
   "metadata": {}
  },
  {
   "outputs": [],
   "cell_type": "markdown",
   "source": [
    "When this (https://github.com/JuliaData/DataFrames.jl/pull/1546) hits DataFrame it'll be conceptually easier: i.e., completecases!(d, :rgdppc_2000)"
   ],
   "metadata": {}
  },
  {
   "outputs": [],
   "cell_type": "code",
   "source": [
    "notisnan(e) = !ismissing(e)\n",
    "dd = d[map(notisnan, d[:rgdppc_2000]), :];"
   ],
   "metadata": {},
   "execution_count": null
  },
  {
   "outputs": [],
   "cell_type": "markdown",
   "source": [
    "Updated DataFrame dd size (should equal 170 x 52)"
   ],
   "metadata": {}
  },
  {
   "outputs": [],
   "cell_type": "code",
   "source": [
    "size(dd)"
   ],
   "metadata": {},
   "execution_count": null
  },
  {
   "outputs": [],
   "cell_type": "markdown",
   "source": [
    "Define the Turing model"
   ],
   "metadata": {}
  },
  {
   "outputs": [],
   "cell_type": "code",
   "source": [
    "@model m8_1stan(y, x₁, x₂) = begin\n",
    "    σ ~ Truncated(Cauchy(0, 2), 0, Inf)\n",
    "    βR ~ Normal(0, 10)\n",
    "    βA ~ Normal(0, 10)\n",
    "    βAR ~ Normal(0, 10)\n",
    "    α ~ Normal(0, 100)\n",
    "\n",
    "    for i ∈ 1:length(y)\n",
    "        y[i] ~ Normal(α + βR * x₁[i] + βA * x₂[i] + βAR * x₁[i] * x₂[i], σ)\n",
    "    end\n",
    "end;"
   ],
   "metadata": {},
   "execution_count": null
  },
  {
   "outputs": [],
   "cell_type": "markdown",
   "source": [
    "Test to see that the model is sane. Use 2000 for now, as in the book.\n",
    "Need to set the same stepsize and adapt_delta as in Stan..."
   ],
   "metadata": {}
  },
  {
   "outputs": [],
   "cell_type": "markdown",
   "source": [
    "Use Turing mcmc"
   ],
   "metadata": {}
  },
  {
   "outputs": [],
   "cell_type": "code",
   "source": [
    "posterior = sample(m8_1stan(dd[:log_gdp], dd[:rugged], dd[:cont_africa]),\n",
    "Turing.NUTS(2000, 1000, 0.95));"
   ],
   "metadata": {},
   "execution_count": null
  },
  {
   "outputs": [],
   "cell_type": "markdown",
   "source": [
    "Fix the inclusion of adaptation samples"
   ],
   "metadata": {}
  },
  {
   "outputs": [],
   "cell_type": "code",
   "source": [
    "draws = 1001:2000\n",
    "posterior2 = posterior[draws,:,:];"
   ],
   "metadata": {},
   "execution_count": null
  },
  {
   "outputs": [],
   "cell_type": "markdown",
   "source": [
    "Example of a Turing run simulation output"
   ],
   "metadata": {}
  },
  {
   "outputs": [],
   "cell_type": "markdown",
   "source": [
    "Here's the ulam() output from rethinking"
   ],
   "metadata": {}
  },
  {
   "outputs": [],
   "cell_type": "code",
   "source": [
    "m8_1s_cmdstan = \"\n",
    "Iterations = 1:1000\n",
    "Thinning interval = 1\n",
    "Chains = 1,2,3,4\n",
    "Samples per chain = 1000\n",
    "\n",
    "Empirical Posterior Estimates:\n",
    "          Mean         SD       Naive SE       MCSE      ESS\n",
    "    a  9.22360053 0.139119116 0.0021996664 0.0034632816 1000\n",
    "   bR -0.20196346 0.076106388 0.0012033477 0.0018370185 1000\n",
    "   bA -1.94430980 0.227080488 0.0035904578 0.0057840746 1000\n",
    "  bAR  0.39071684 0.131889143 0.0020853505 0.0032749642 1000\n",
    "sigma  0.95036370 0.052161768 0.0008247500 0.0009204073 1000\n",
    "\n",
    "Quantiles:\n",
    "          2.5%       25.0%       50.0%      75.0%        97.5%\n",
    "    a  8.95307475  9.12719750  9.2237750  9.31974000  9.490234250\n",
    "   bR -0.35217930 -0.25334425 -0.2012855 -0.15124725 -0.054216855\n",
    "   bA -2.39010825 -2.09894500 -1.9432550 -1.78643000 -1.513974250\n",
    "  bAR  0.13496995  0.30095575  0.3916590  0.47887625  0.650244475\n",
    "sigma  0.85376115  0.91363250  0.9484920  0.98405750  1.058573750\n",
    "\";"
   ],
   "metadata": {},
   "execution_count": null
  },
  {
   "outputs": [],
   "cell_type": "markdown",
   "source": [
    "Describe the posterior samples"
   ],
   "metadata": {}
  },
  {
   "outputs": [],
   "cell_type": "code",
   "source": [
    "describe(posterior2)"
   ],
   "metadata": {},
   "execution_count": null
  },
  {
   "outputs": [],
   "cell_type": "markdown",
   "source": [
    "End of `08/m8.1t.jl`"
   ],
   "metadata": {}
  },
  {
   "outputs": [],
   "cell_type": "markdown",
   "source": [
    "*This notebook was generated using [Literate.jl](https://github.com/fredrikekre/Literate.jl).*"
   ],
   "metadata": {}
  }
 ],
 "nbformat_minor": 3,
 "metadata": {
  "language_info": {
   "file_extension": ".jl",
   "mimetype": "application/julia",
   "name": "julia",
   "version": "1.2.0-DEV.483"
  },
  "kernelspec": {
   "name": "julia-1.2",
   "display_name": "Julia 1.2.0-DEV.483",
   "language": "julia"
  }
 },
 "nbformat": 4
}
