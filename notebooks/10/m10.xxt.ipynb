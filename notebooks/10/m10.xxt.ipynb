{
 "cells": [
  {
   "outputs": [],
   "cell_type": "code",
   "source": [
    "using TuringModels\n",
    "\n",
    "Turing.setadbackend(:reverse_diff)"
   ],
   "metadata": {},
   "execution_count": null
  },
  {
   "outputs": [],
   "cell_type": "markdown",
   "source": [
    "outcome and predictor almost perfectly associated"
   ],
   "metadata": {}
  },
  {
   "outputs": [],
   "cell_type": "code",
   "source": [
    "x = repeat([-1], 9); append!(x, repeat([1],11))\n",
    "y = repeat([0], 10); append!(y, repeat([1],10))\n",
    "\n",
    "@model m_good_stan(x,y) = begin\n",
    "    α ~ Normal(0,10)\n",
    "    β ~ Normal(0,10)\n",
    "\n",
    "    for i ∈ 1:length(y)\n",
    "        p = logistic(α + β * x[i])\n",
    "        y[i] ~ Binomial(1, p)\n",
    "    end\n",
    "end\n",
    "\n",
    "posterior = sample(m_good_stan(x,y), Turing.NUTS(2000, 1000, 0.95))"
   ],
   "metadata": {},
   "execution_count": null
  },
  {
   "outputs": [],
   "cell_type": "markdown",
   "source": [
    "Fix the inclusion of adaptation samples"
   ],
   "metadata": {}
  },
  {
   "outputs": [],
   "cell_type": "code",
   "source": [
    "posterior2 = posterior[1001:2000,:,:]"
   ],
   "metadata": {},
   "execution_count": null
  },
  {
   "outputs": [],
   "cell_type": "markdown",
   "source": [
    "Stan results"
   ],
   "metadata": {}
  },
  {
   "outputs": [],
   "cell_type": "code",
   "source": [
    "m_10_x,_results = \"\n",
    "    mean   sd   5.5% 94.5% n_eff Rhat\n",
    " a -5.09 4.08 -12.62 -0.25   100 1.00\n",
    " b  7.86 4.09   2.96 15.75   104 1.01\n",
    "\";"
   ],
   "metadata": {},
   "execution_count": null
  },
  {
   "outputs": [],
   "cell_type": "markdown",
   "source": [
    "Look at the proper draws (in corrected chn2)"
   ],
   "metadata": {}
  },
  {
   "outputs": [],
   "cell_type": "code",
   "source": [
    "describe(posterior2)"
   ],
   "metadata": {},
   "execution_count": null
  },
  {
   "outputs": [],
   "cell_type": "markdown",
   "source": [
    "End of 10/m10.xxt.jl"
   ],
   "metadata": {}
  },
  {
   "outputs": [],
   "cell_type": "markdown",
   "source": [
    "*This notebook was generated using [Literate.jl](https://github.com/fredrikekre/Literate.jl).*"
   ],
   "metadata": {}
  }
 ],
 "nbformat_minor": 3,
 "metadata": {
  "language_info": {
   "file_extension": ".jl",
   "mimetype": "application/julia",
   "name": "julia",
   "version": "1.2.0-DEV.483"
  },
  "kernelspec": {
   "name": "julia-1.2",
   "display_name": "Julia 1.2.0-DEV.483",
   "language": "julia"
  }
 },
 "nbformat": 4
}
