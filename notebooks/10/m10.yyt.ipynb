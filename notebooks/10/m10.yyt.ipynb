{
 "cells": [
  {
   "outputs": [],
   "cell_type": "code",
   "source": [
    "using TuringModels\n",
    "\n",
    "Turing.setadbackend(:reverse_diff);\n",
    "Turing.turnprogress(false)\n",
    "\n",
    "d = CSV.read(rel_path(\"..\", \"data\", \"UCBadmit.csv\"), delim=';');\n",
    "size(d) # Should be 12x5\n",
    "\n",
    "@model m_pois(admit, reject) = begin\n",
    "   α₁ ~ Normal(0,100)\n",
    "   α₂ ~ Normal(0,100)\n",
    "\n",
    "   for i ∈ 1:length(admit)\n",
    "       λₐ = exp(α₁)\n",
    "       λᵣ = exp(α₂)\n",
    "       admit[i] ~ Poisson(λₐ)\n",
    "       reject[i] ~ Poisson(λᵣ)\n",
    "   end\n",
    "end;\n",
    "\n",
    "posterior = sample(m_pois(d[:admit], d[:reject]), Turing.NUTS(2000, 1000, 0.95));"
   ],
   "metadata": {},
   "execution_count": null
  },
  {
   "outputs": [],
   "cell_type": "markdown",
   "source": [
    "Fix the inclusion of adaptation samples"
   ],
   "metadata": {}
  },
  {
   "outputs": [],
   "cell_type": "code",
   "source": [
    "posterior2 = posterior[1001:2000,:,:];"
   ],
   "metadata": {},
   "execution_count": null
  },
  {
   "outputs": [],
   "cell_type": "markdown",
   "source": [
    "Rethinking/CmdStan result"
   ],
   "metadata": {}
  },
  {
   "outputs": [],
   "cell_type": "code",
   "source": [
    "m_10_yyt_result = \"\n",
    "    mean   sd 5.5% 94.5% n_eff Rhat\n",
    " a1 4.99 0.02 4.95  5.02  2201    1\n",
    " a2 5.44 0.02 5.41  5.47  2468    1\n",
    "\";"
   ],
   "metadata": {},
   "execution_count": null
  },
  {
   "outputs": [],
   "cell_type": "markdown",
   "source": [
    "Describe the draws"
   ],
   "metadata": {}
  },
  {
   "outputs": [],
   "cell_type": "code",
   "source": [
    "describe(posterior2)"
   ],
   "metadata": {},
   "execution_count": null
  },
  {
   "outputs": [],
   "cell_type": "markdown",
   "source": [
    "End of 10/m10.yyt.jl#-\n",
    "*This notebook was generated using [Literate.jl](https://github.com/fredrikekre/Literate.jl).*"
   ],
   "metadata": {}
  }
 ],
 "nbformat_minor": 3,
 "metadata": {
  "language_info": {
   "file_extension": ".jl",
   "mimetype": "application/julia",
   "name": "julia",
   "version": "1.2.0-DEV.483"
  },
  "kernelspec": {
   "name": "julia-1.2",
   "display_name": "Julia 1.2.0-DEV.483",
   "language": "julia"
  }
 },
 "nbformat": 4
}
