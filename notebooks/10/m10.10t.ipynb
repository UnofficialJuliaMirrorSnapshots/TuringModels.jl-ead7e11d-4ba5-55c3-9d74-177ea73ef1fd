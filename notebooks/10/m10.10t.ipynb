{
 "cells": [
  {
   "outputs": [],
   "cell_type": "code",
   "source": [
    "using TuringModels\n",
    "\n",
    "Turing.setadbackend(:reverse_diff);\n",
    "Turing.turnprogress(false);\n",
    "\n",
    "d = CSV.read(rel_path(\"..\", \"data\", \"Kline.csv\"), delim=';');\n",
    "size(d) # Should be 10x5"
   ],
   "metadata": {},
   "execution_count": null
  },
  {
   "outputs": [],
   "cell_type": "markdown",
   "source": [
    "New col log_pop, set log() for population data"
   ],
   "metadata": {}
  },
  {
   "outputs": [],
   "cell_type": "code",
   "source": [
    "d[:log_pop] = map(x -> log(x), d[:population]);"
   ],
   "metadata": {},
   "execution_count": null
  },
  {
   "outputs": [],
   "cell_type": "markdown",
   "source": [
    "New col contact_high, set binary values 1/0 if high/low contact"
   ],
   "metadata": {}
  },
  {
   "outputs": [],
   "cell_type": "code",
   "source": [
    "d[:contact_high] = map(x -> ifelse(x==\"high\", 1, 0), d[:contact]);"
   ],
   "metadata": {},
   "execution_count": null
  },
  {
   "outputs": [],
   "cell_type": "markdown",
   "source": [
    "This is supposed to be a \"bad\" model since we take non-centered data for the\n",
    "predictor log_pop"
   ],
   "metadata": {}
  },
  {
   "outputs": [],
   "cell_type": "code",
   "source": [
    "@model m10_10stan(total_tools, log_pop, contact_high) = begin\n",
    "    α ~ Normal(0, 100)\n",
    "    βp ~ Normal(0, 1)\n",
    "    βc ~ Normal(0, 1)\n",
    "    βpc ~ Normal(0, 1)\n",
    "\n",
    "    for i ∈ 1:length(total_tools)\n",
    "        λ = exp(α + βp*log_pop[i] + βc*contact_high[i] +\n",
    "            βpc*contact_high[i]*log_pop[i])\n",
    "        total_tools[i] ~ Poisson(λ)\n",
    "    end\n",
    "end;\n",
    "\n",
    "posterior = sample(m10_10stan(d[:total_tools], d[:log_pop],\n",
    "    d[:contact_high]), Turing.NUTS(2000, 1000, 0.95));\n",
    "# Fix the inclusion of adaptation samples\n",
    "posterior2 = posterior[1001:2000,:,:];"
   ],
   "metadata": {},
   "execution_count": null
  },
  {
   "outputs": [],
   "cell_type": "markdown",
   "source": [
    "Rethinking result"
   ],
   "metadata": {}
  },
  {
   "outputs": [],
   "cell_type": "code",
   "source": [
    "m_10_10t_result = \"\n",
    "     mean   sd  5.5% 94.5% n_eff Rhat\n",
    " a    0.94 0.37  0.36  1.53  3379    1\n",
    " bp   0.26 0.04  0.21  0.32  3347    1\n",
    " bc  -0.08 0.84 -1.41  1.23  2950    1\n",
    " bpc  0.04 0.09 -0.10  0.19  2907    1\n",
    "\";"
   ],
   "metadata": {},
   "execution_count": null
  },
  {
   "outputs": [],
   "cell_type": "markdown",
   "source": [
    "Describe the draws"
   ],
   "metadata": {}
  },
  {
   "outputs": [],
   "cell_type": "code",
   "source": [
    "describe(posterior2)"
   ],
   "metadata": {},
   "execution_count": null
  },
  {
   "outputs": [],
   "cell_type": "markdown",
   "source": [
    "End of m10.10t.jl"
   ],
   "metadata": {}
  },
  {
   "outputs": [],
   "cell_type": "markdown",
   "source": [
    "*This notebook was generated using [Literate.jl](https://github.com/fredrikekre/Literate.jl).*"
   ],
   "metadata": {}
  }
 ],
 "nbformat_minor": 3,
 "metadata": {
  "language_info": {
   "file_extension": ".jl",
   "mimetype": "application/julia",
   "name": "julia",
   "version": "1.2.0-DEV.483"
  },
  "kernelspec": {
   "name": "julia-1.2",
   "display_name": "Julia 1.2.0-DEV.483",
   "language": "julia"
  }
 },
 "nbformat": 4
}
